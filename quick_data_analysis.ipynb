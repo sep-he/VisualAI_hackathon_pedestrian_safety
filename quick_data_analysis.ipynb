{
 "cells": [
  {
   "cell_type": "code",
   "execution_count": 32,
   "id": "c4e353fb-ab7b-478c-a41e-ef2347009b8a",
   "metadata": {},
   "outputs": [
    {
     "name": "stdout",
     "output_type": "stream",
     "text": [
      " 100% |█████████████| 33793/33793 [2.8m elapsed, 0s remaining, 642.2 samples/s]      \n"
     ]
    }
   ],
   "source": [
    "import fiftyone as fo\n",
    "\n",
    "name = \"my-dataset\"\n",
    "data_path = \"./data/JPEGImages\"\n",
    "labels_path = \"./data/Annotations/\"\n",
    "\n",
    "dataset = fo.Dataset.from_dir(\n",
    "    dataset_type=fo.types.VOCDetectionDataset,\n",
    "    data_path=data_path,\n",
    "    labels_path=labels_path,\n",
    "    name=name,\n",
    ")"
   ]
  },
  {
   "cell_type": "code",
   "execution_count": 6,
   "id": "026e38d1-8362-4f74-ae03-a0bec5781a6b",
   "metadata": {},
   "outputs": [],
   "source": [
    "import pandas as pd\n",
    "import matplotlib.pyplot as plt\n",
    "import seaborn as sns"
   ]
  },
  {
   "cell_type": "code",
   "execution_count": 3,
   "id": "1757188c-c704-4d3e-b6ff-3124f8a1faaf",
   "metadata": {},
   "outputs": [],
   "source": [
    "import fiftyone as fo\n",
    "\n",
    "dataset = fo.load_dataset(\"my-dataset\")"
   ]
  },
  {
   "cell_type": "code",
   "execution_count": 4,
   "id": "d8664334-abfe-4c92-b406-a7856a7e0b28",
   "metadata": {},
   "outputs": [
    {
     "name": "stdout",
     "output_type": "stream",
     "text": [
      "Name:        my-dataset\n",
      "Media type:  image\n",
      "Num samples: 33793\n",
      "Persistent:  False\n",
      "Tags:        []\n",
      "Sample fields:\n",
      "    id:               fiftyone.core.fields.ObjectIdField\n",
      "    filepath:         fiftyone.core.fields.StringField\n",
      "    tags:             fiftyone.core.fields.ListField(fiftyone.core.fields.StringField)\n",
      "    metadata:         fiftyone.core.fields.EmbeddedDocumentField(fiftyone.core.metadata.ImageMetadata)\n",
      "    created_at:       fiftyone.core.fields.DateTimeField\n",
      "    last_modified_at: fiftyone.core.fields.DateTimeField\n",
      "    ground_truth:     fiftyone.core.fields.EmbeddedDocumentField(fiftyone.core.labels.Detections)\n"
     ]
    }
   ],
   "source": [
    "print(dataset)"
   ]
  },
  {
   "cell_type": "code",
   "execution_count": 7,
   "id": "ac04a06b-deaf-463b-a0b0-2efa58e6c67a",
   "metadata": {},
   "outputs": [],
   "source": [
    "labels = dataset.values(\"ground_truth.detections.label\")"
   ]
  },
  {
   "cell_type": "code",
   "execution_count": 17,
   "id": "59498b14-cf8c-4e76-8c35-8fd2c5d21594",
   "metadata": {
    "scrolled": true
   },
   "outputs": [
    {
     "data": {
      "text/plain": [
       "<Detections: {\n",
       "    'detections': [\n",
       "        <Detection: {\n",
       "\n",
       "            'id': '67d5cb7074a745da1280a0b8',\n",
       "\n",
       "            'attributes': {},\n",
       "\n",
       "            'tags': [],\n",
       "\n",
       "            'label': 'Battery',\n",
       "\n",
       "            'bounding_box': [\n",
       "\n",
       "                0.46,\n",
       "\n",
       "                0.3466666666666667,\n",
       "\n",
       "                0.043333333333333335,\n",
       "\n",
       "                0.14666666666666667,\n",
       "\n",
       "            ],\n",
       "\n",
       "            'mask': None,\n",
       "\n",
       "            'mask_path': None,\n",
       "\n",
       "            'confidence': None,\n",
       "\n",
       "            'index': None,\n",
       "\n",
       "            'keyframe': True,\n",
       "\n",
       "            'track_id': 0,\n",
       "\n",
       "            'truncated': 0,\n",
       "\n",
       "            'difficult': 0,\n",
       "\n",
       "            'occluded': 0,\n",
       "\n",
       "            'pose': 'Unspecified',\n",
       "\n",
       "        }>,\n",
       "    ],\n",
       "}>"
      ]
     },
     "execution_count": 17,
     "metadata": {},
     "output_type": "execute_result"
    }
   ],
   "source": [
    "# The annoation data for the first image\n",
    "dataset.values(\"ground_truth\")[0]"
   ]
  },
  {
   "cell_type": "code",
   "execution_count": 8,
   "id": "ef5a009e-374a-4aa3-b700-8fa153c04b2d",
   "metadata": {},
   "outputs": [],
   "source": [
    "all_labels = [label[0] for label in labels]"
   ]
  },
  {
   "cell_type": "code",
   "execution_count": 9,
   "id": "132953de-cf1d-43ef-a08b-7a8d8dba4933",
   "metadata": {},
   "outputs": [],
   "source": [
    "from collections import Counter"
   ]
  },
  {
   "cell_type": "code",
   "execution_count": 10,
   "id": "6adf8ea3-e607-4cf0-bc14-5be669b9ac9d",
   "metadata": {
    "scrolled": true
   },
   "outputs": [],
   "source": [
    "label_counter = Counter(all_labels)"
   ]
  },
  {
   "cell_type": "code",
   "execution_count": 11,
   "id": "f3052dde-1818-493e-a99e-50ebcefe223a",
   "metadata": {},
   "outputs": [
    {
     "data": {
      "image/png": "[encoded data removed]",
      "text/plain": [
       "<Figure size 1000x600 with 1 Axes>"
      ]
     },
     "metadata": {},
     "output_type": "display_data"
    }
   ],
   "source": [
    "top_10 = sorted(label_counter.items(), key=lambda x: x[1], reverse=True)[:10]\n",
    "\n",
    "labels, counts = zip(*top_10)\n",
    "\n",
    "plt.figure(figsize=(10, 6))\n",
    "sns.barplot(x=list(counts), y=list(labels), palette=\"viridis\", hue=list(labels), legend=False)\n",
    "\n",
    "plt.xlabel(\"Count\")\n",
    "plt.ylabel(\"Label\")\n",
    "plt.title(\"Top 10 Most Popular Labels\")\n",
    "plt.show()"
   ]
  },
  {
   "cell_type": "code",
   "execution_count": 14,
   "id": "16ea429b-ac0c-444c-8d5e-61080e522cc0",
   "metadata": {},
   "outputs": [
    {
     "data": {
      "text/plain": [
       "[[0.46, 0.3466666666666667, 0.043333333333333335, 0.14666666666666667]]"
      ]
     },
     "execution_count": 14,
     "metadata": {},
     "output_type": "execute_result"
    }
   ],
   "source": [
    "# Bounding box of the first observation\n",
    "dataset.values(\"ground_truth.detections.bounding_box\")[0]"
   ]
  }
 ],
 "metadata": {
  "kernelspec": {
   "display_name": "Python 3 (ipykernel)",
   "language": "python",
   "name": "python3"
  },
  "language_info": {
   "codemirror_mode": {
    "name": "ipython",
    "version": 3
   },
   "file_extension": ".py",
   "mimetype": "text/x-python",
   "name": "python",
   "nbconvert_exporter": "python",
   "pygments_lexer": "ipython3",
   "version": "3.11.11"
  }
 },
 "nbformat": 4,
 "nbformat_minor": 5
}
